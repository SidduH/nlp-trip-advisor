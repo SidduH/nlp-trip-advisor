{
 "cells": [
  {
   "cell_type": "code",
   "execution_count": 1,
   "metadata": {},
   "outputs": [],
   "source": [
    "# Necessory Imports \n",
    "import pandas as pd\n",
    "import numpy as np\n",
    "import seaborn as sns\n",
    "\n",
    "from sklearn.model_selection import train_test_split\n",
    "from sklearn import preprocessing, decomposition, model_selection, metrics, pipeline\n",
    "from sklearn.feature_extraction.text import CountVectorizer\n",
    "from sklearn.naive_bayes import MultinomialNB\n",
    "from sklearn.metrics import classification_report, confusion_matrix\n",
    "import spacy\n",
    "import nltk\n",
    "from nltk.corpus import stopwords\n",
    "\n",
    "import string # Used to remove punctuation\n",
    "import re\n",
    "\n",
    "pd.set_option('max_colwidth', 200)\n",
    "nlp = spacy.load('en_core_web_sm')"
   ]
  },
  {
   "cell_type": "code",
   "execution_count": 2,
   "metadata": {},
   "outputs": [],
   "source": [
    "data = pd.read_csv('tripadvisor_hotel_reviews.csv')"
   ]
  },
  {
   "cell_type": "code",
   "execution_count": 3,
   "metadata": {},
   "outputs": [
    {
     "data": {
      "text/plain": [
       "Review    20491\n",
       "Rating    20491\n",
       "dtype: int64"
      ]
     },
     "execution_count": 3,
     "metadata": {},
     "output_type": "execute_result"
    }
   ],
   "source": [
    "data.count()"
   ]
  },
  {
   "cell_type": "code",
   "execution_count": 4,
   "metadata": {},
   "outputs": [],
   "source": [
    "data.rename(columns={'Review':'review', 'Rating':'rating'}, inplace=True)"
   ]
  },
  {
   "cell_type": "code",
   "execution_count": 5,
   "metadata": {},
   "outputs": [
    {
     "data": {
      "text/plain": [
       "<matplotlib.axes._subplots.AxesSubplot at 0x2c3cf863f60>"
      ]
     },
     "execution_count": 5,
     "metadata": {},
     "output_type": "execute_result"
    },
    {
     "data": {
      "image/png": "[encoded data removed]",
      "text/plain": [
       "<Figure size 432x288 with 1 Axes>"
      ]
     },
     "metadata": {
      "needs_background": "light"
     },
     "output_type": "display_data"
    }
   ],
   "source": [
    "sns.countplot(data=data,x='rating')"
   ]
  },
  {
   "cell_type": "code",
   "execution_count": 6,
   "metadata": {},
   "outputs": [
    {
     "data": {
      "text/html": [
       "<div>\n",
       "<style scoped>\n",
       "    .dataframe tbody tr th:only-of-type {\n",
       "        vertical-align: middle;\n",
       "    }\n",
       "\n",
       "    .dataframe tbody tr th {\n",
       "        vertical-align: top;\n",
       "    }\n",
       "\n",
       "    .dataframe thead th {\n",
       "        text-align: right;\n",
       "    }\n",
       "</style>\n",
       "<table border=\"1\" class=\"dataframe\">\n",
       "  <thead>\n",
       "    <tr style=\"text-align: right;\">\n",
       "      <th></th>\n",
       "      <th>review</th>\n",
       "      <th>rating</th>\n",
       "    </tr>\n",
       "  </thead>\n",
       "  <tbody>\n",
       "    <tr>\n",
       "      <th>0</th>\n",
       "      <td>nice hotel expensive parking got good deal stay hotel anniversary, arrived late evening took advice previous reviews did valet parking, check quick easy, little disappointed non-existent view room...</td>\n",
       "      <td>4</td>\n",
       "    </tr>\n",
       "    <tr>\n",
       "      <th>1</th>\n",
       "      <td>ok nothing special charge diamond member hilton decided chain shot 20th anniversary seattle, start booked suite paid extra website description not, suite bedroom bathroom standard hotel room, took...</td>\n",
       "      <td>2</td>\n",
       "    </tr>\n",
       "    <tr>\n",
       "      <th>2</th>\n",
       "      <td>nice rooms not 4* experience hotel monaco seattle good hotel n't 4* level.positives large bathroom mediterranean suite comfortable bed pillowsattentive housekeeping staffnegatives ac unit malfunct...</td>\n",
       "      <td>3</td>\n",
       "    </tr>\n",
       "    <tr>\n",
       "      <th>3</th>\n",
       "      <td>unique, great stay, wonderful time hotel monaco, location excellent short stroll main downtown shopping area, pet friendly room showed no signs animal hair smells, monaco suite sleeping area big s...</td>\n",
       "      <td>5</td>\n",
       "    </tr>\n",
       "    <tr>\n",
       "      <th>4</th>\n",
       "      <td>great stay great stay, went seahawk game awesome, downfall view building did n't complain, room huge staff helpful, booked hotels website seahawk package, no charge parking got voucher taxi, probl...</td>\n",
       "      <td>5</td>\n",
       "    </tr>\n",
       "  </tbody>\n",
       "</table>\n",
       "</div>"
      ],
      "text/plain": [
       "                                                                                                                                                                                                    review  \\\n",
       "0  nice hotel expensive parking got good deal stay hotel anniversary, arrived late evening took advice previous reviews did valet parking, check quick easy, little disappointed non-existent view room...   \n",
       "1  ok nothing special charge diamond member hilton decided chain shot 20th anniversary seattle, start booked suite paid extra website description not, suite bedroom bathroom standard hotel room, took...   \n",
       "2  nice rooms not 4* experience hotel monaco seattle good hotel n't 4* level.positives large bathroom mediterranean suite comfortable bed pillowsattentive housekeeping staffnegatives ac unit malfunct...   \n",
       "3  unique, great stay, wonderful time hotel monaco, location excellent short stroll main downtown shopping area, pet friendly room showed no signs animal hair smells, monaco suite sleeping area big s...   \n",
       "4  great stay great stay, went seahawk game awesome, downfall view building did n't complain, room huge staff helpful, booked hotels website seahawk package, no charge parking got voucher taxi, probl...   \n",
       "\n",
       "   rating  \n",
       "0       4  \n",
       "1       2  \n",
       "2       3  \n",
       "3       5  \n",
       "4       5  "
      ]
     },
     "execution_count": 6,
     "metadata": {},
     "output_type": "execute_result"
    }
   ],
   "source": [
    "data.head()"
   ]
  },
  {
   "cell_type": "code",
   "execution_count": 7,
   "metadata": {},
   "outputs": [
    {
     "name": "stdout",
     "output_type": "stream",
     "text": [
      "!\"#$%&'()*+,-./:;<=>?@[\\]^_`{|}~\n"
     ]
    }
   ],
   "source": [
    "# Removing punctuations\n",
    "print(string.punctuation)\n",
    "string_punctuation = string.punctuation\n",
    "def remove_punk(text):\n",
    "    return text.translate(str.maketrans('','',string_punctuation))\n",
    "data['review'] = data['review'].apply(lambda t: remove_punk(t))"
   ]
  },
  {
   "cell_type": "code",
   "execution_count": 8,
   "metadata": {},
   "outputs": [],
   "source": [
    "# Remove special characters\n",
    "data['review'] = data['review'].str.lower()\n",
    "\n",
    "def  remove_special_chars(text):\n",
    "    text = text.apply(lambda T: re.sub(r\"(@[A-Za-z0-9]+)|([^0-9A-Za-z \\t])|(\\w+:\\/\\/\\S+)|^rt|http.+?\", \"\", T))          \n",
    "    return text\n",
    "\n",
    "data['review']= remove_special_chars(data['review'])"
   ]
  },
  {
   "cell_type": "code",
   "execution_count": 9,
   "metadata": {},
   "outputs": [],
   "source": [
    "# Remove stopwords\n",
    "stop_word = set(stopwords.words('english'))\n",
    "def remove_stopwords(text):\n",
    "    return \" \".join([word for word in str(text).split() if word not in stop_word])\n",
    "\n",
    "data['review'] = data['review'].apply(lambda t: remove_stopwords(t))"
   ]
  },
  {
   "cell_type": "code",
   "execution_count": 10,
   "metadata": {},
   "outputs": [],
   "source": [
    "# Split data into X and y\n",
    "lbl_enc = preprocessing.LabelEncoder()\n",
    "y = lbl_enc.fit_transform(data.rating.values)\n",
    "x_train, x_test, y_train, y_test = train_test_split(data.review.values, y, \n",
    "                                                  stratify=y, \n",
    "                                                  random_state=25, \n",
    "                                                  test_size=0.1, shuffle=True)\n",
    "xtrain, xvalid, ytrain, yvalid = train_test_split(pd.DataFrame(x_train)[0], y_train, \n",
    "                                                  stratify=y_train, \n",
    "                                                  random_state=25, \n",
    "                                                  test_size=0.1, shuffle=True)"
   ]
  },
  {
   "cell_type": "code",
   "execution_count": 11,
   "metadata": {},
   "outputs": [],
   "source": [
    "# One hot encoding\n",
    "ctv = CountVectorizer(stop_words = 'english')\n",
    "ctv.fit(list(xtrain) + list(xvalid))\n",
    "xtrain_ctv =  ctv.transform(xtrain) \n",
    "xvalid_ctv = ctv.transform(xvalid)"
   ]
  },
  {
   "cell_type": "code",
   "execution_count": 12,
   "metadata": {},
   "outputs": [],
   "source": [
    "# ctv.get_feature_names()"
   ]
  },
  {
   "cell_type": "code",
   "execution_count": 13,
   "metadata": {},
   "outputs": [
    {
     "name": "stdout",
     "output_type": "stream",
     "text": [
      "Total accuracy classification score: 0.5523035230352303\n",
      "Total F1 classification score: 0.4777614152899643\n",
      "Confusion Matrix:\n",
      " [[ 78  37   6   7   0]\n",
      " [ 31  60  47  15   8]\n",
      " [ 11  34  53  79  20]\n",
      " [  6  31  67 235 205]\n",
      " [  7  15  27 173 593]]\n"
     ]
    }
   ],
   "source": [
    "# Model initialize and fittransform\n",
    "clf = MultinomialNB(alpha=0.05)\n",
    "clf.fit(xtrain_ctv, ytrain)\n",
    "predictions = clf.predict(xvalid_ctv)\n",
    "\n",
    "acc_score = metrics.accuracy_score(yvalid, predictions)\n",
    "f1_score = metrics.f1_score(yvalid, predictions, average='macro')\n",
    "\n",
    "# print (\"logloss: %0.3f \" % multiclass_logloss(yvalid, predictions))\n",
    "# print(classification_report(yvalid,np.argmax(predictions,axis=1)))\n",
    "# print(acc_score, f1_score)\n",
    "\n",
    "print('Total accuracy classification score: {}'.format(acc_score))\n",
    "print('Total F1 classification score: {}'.format(f1_score))\n",
    "conf_matrix = confusion_matrix(yvalid, predictions)\n",
    "print('Confusion Matrix:\\n {}'.format(conf_matrix))"
   ]
  },
  {
   "cell_type": "code",
   "execution_count": 14,
   "metadata": {},
   "outputs": [],
   "source": [
    "from nltk.tokenize import word_tokenize\n",
    "\n",
    "pos_df = data.head(4).copy()\n",
    "def get_tokens(text):\n",
    "    tokenize = word_tokenize(text.lower())\n",
    "#     print('tokenize:', tokenize)\n",
    "    return tokenize\n",
    "\n",
    "pos_df[\"tokens\"] = pos_df['review'].apply(lambda text: get_tokens(text))"
   ]
  },
  {
   "cell_type": "code",
   "execution_count": 15,
   "metadata": {},
   "outputs": [
    {
     "name": "stderr",
     "output_type": "stream",
     "text": [
      "[nltk_data] Downloading package averaged_perceptron_tagger to\n",
      "[nltk_data]     C:\\Users\\siddaram.halli\\AppData\\Roaming\\nltk_data...\n",
      "[nltk_data]   Package averaged_perceptron_tagger is already up-to-\n",
      "[nltk_data]       date!\n"
     ]
    },
    {
     "data": {
      "text/plain": [
       "True"
      ]
     },
     "execution_count": 15,
     "metadata": {},
     "output_type": "execute_result"
    }
   ],
   "source": [
    "nltk.download('averaged_perceptron_tagger')"
   ]
  },
  {
   "cell_type": "code",
   "execution_count": 16,
   "metadata": {},
   "outputs": [
    {
     "data": {
      "text/html": [
       "<div>\n",
       "<style scoped>\n",
       "    .dataframe tbody tr th:only-of-type {\n",
       "        vertical-align: middle;\n",
       "    }\n",
       "\n",
       "    .dataframe tbody tr th {\n",
       "        vertical-align: top;\n",
       "    }\n",
       "\n",
       "    .dataframe thead th {\n",
       "        text-align: right;\n",
       "    }\n",
       "</style>\n",
       "<table border=\"1\" class=\"dataframe\">\n",
       "  <thead>\n",
       "    <tr style=\"text-align: right;\">\n",
       "      <th></th>\n",
       "      <th>review</th>\n",
       "      <th>rating</th>\n",
       "      <th>tokens</th>\n",
       "      <th>postags</th>\n",
       "    </tr>\n",
       "  </thead>\n",
       "  <tbody>\n",
       "    <tr>\n",
       "      <th>0</th>\n",
       "      <td>nice hotel expensive parking got good deal stay hotel anniversary arrived late evening took advice previous reviews valet parking check quick easy little disappointed nonexistent view room room cl...</td>\n",
       "      <td>4</td>\n",
       "      <td>[nice, hotel, expensive, parking, got, good, deal, stay, hotel, anniversary, arrived, late, evening, took, advice, previous, reviews, valet, parking, check, quick, easy, little, disappointed, none...</td>\n",
       "      <td>[JJ, NN, JJ, NN, VBD, JJ, NN, VB, NN, JJ, VBD, JJ, NN, VBD, RB, JJ, NNS, NN, VBG, NN, JJ, JJ, JJ, JJ, JJ, NN, NN, NN, JJ, JJ, NN, VBD, JJ, NN, JJ, RB, JJ, NNS, VBP, IN, NN, NN, NN, NN, NN, JJ, NNS...</td>\n",
       "    </tr>\n",
       "    <tr>\n",
       "      <th>1</th>\n",
       "      <td>ok nothing special charge diamond member hilton decided chain shot 20th anniversary seattle start booked suite paid extra website description suite bedroom bathroom standard hotel room took printe...</td>\n",
       "      <td>2</td>\n",
       "      <td>[ok, nothing, special, charge, diamond, member, hilton, decided, chain, shot, 20th, anniversary, seattle, start, booked, suite, paid, extra, website, description, suite, bedroom, bathroom, standar...</td>\n",
       "      <td>[JJ, NN, JJ, NN, NN, NN, NN, VBD, NN, NN, CD, JJ, JJ, NN, VBD, NN, VBN, JJ, JJ, NN, NN, NN, NN, JJ, NN, NN, VBD, JJ, NN, NN, VBD, VBD, NNS, IN, NN, JJ, NN, NN, NN, VBD, UH, JJ, NNS, VBP, NNP, NN, ...</td>\n",
       "    </tr>\n",
       "  </tbody>\n",
       "</table>\n",
       "</div>"
      ],
      "text/plain": [
       "                                                                                                                                                                                                    review  \\\n",
       "0  nice hotel expensive parking got good deal stay hotel anniversary arrived late evening took advice previous reviews valet parking check quick easy little disappointed nonexistent view room room cl...   \n",
       "1  ok nothing special charge diamond member hilton decided chain shot 20th anniversary seattle start booked suite paid extra website description suite bedroom bathroom standard hotel room took printe...   \n",
       "\n",
       "   rating  \\\n",
       "0       4   \n",
       "1       2   \n",
       "\n",
       "                                                                                                                                                                                                    tokens  \\\n",
       "0  [nice, hotel, expensive, parking, got, good, deal, stay, hotel, anniversary, arrived, late, evening, took, advice, previous, reviews, valet, parking, check, quick, easy, little, disappointed, none...   \n",
       "1  [ok, nothing, special, charge, diamond, member, hilton, decided, chain, shot, 20th, anniversary, seattle, start, booked, suite, paid, extra, website, description, suite, bedroom, bathroom, standar...   \n",
       "\n",
       "                                                                                                                                                                                                   postags  \n",
       "0  [JJ, NN, JJ, NN, VBD, JJ, NN, VB, NN, JJ, VBD, JJ, NN, VBD, RB, JJ, NNS, NN, VBG, NN, JJ, JJ, JJ, JJ, JJ, NN, NN, NN, JJ, JJ, NN, VBD, JJ, NN, JJ, RB, JJ, NNS, VBP, IN, NN, NN, NN, NN, NN, JJ, NNS...  \n",
       "1  [JJ, NN, JJ, NN, NN, NN, NN, VBD, NN, NN, CD, JJ, JJ, NN, VBD, NN, VBN, JJ, JJ, NN, NN, NN, NN, JJ, NN, NN, VBD, JJ, NN, NN, VBD, VBD, NNS, IN, NN, JJ, NN, NN, NN, VBD, UH, JJ, NNS, VBP, NNP, NN, ...  "
      ]
     },
     "execution_count": 16,
     "metadata": {},
     "output_type": "execute_result"
    }
   ],
   "source": [
    "def get_postags(tokens):\n",
    "    postags = nltk.pos_tag(tokens)\n",
    "    list_classes = list()\n",
    "    for  word in postags:\n",
    "        list_classes.append(word[1])\n",
    "    return list_classes\n",
    "\n",
    "pos_df[\"postags\"] = pos_df[\"tokens\"].apply(lambda text: get_postags(text))\n",
    "pos_df.head()"
   ]
  },
  {
   "cell_type": "code",
   "execution_count": 17,
   "metadata": {},
   "outputs": [
    {
     "name": "stdout",
     "output_type": "stream",
     "text": [
      "He => nsubjpass => seen\n",
      "is => auxpass => seen\n",
      "last => advmod => seen\n",
      "seen => ROOT => seen\n",
      "being => auxpass => taken\n",
      "taken => xcomp => seen\n",
      "inside => prep => taken\n",
      "Castle => compound => Black\n",
      "Black => pobj => inside\n",
      "for => prep => taken\n",
      "treatment => pobj => for\n",
      "while => mark => yelling\n",
      "yelling => advcl => taken\n",
      "for => mark => continue\n",
      "his => poss => men\n",
      "men => nsubj => continue\n",
      "to => aux => continue\n",
      "continue => advcl => yelling\n",
      "fighting => xcomp => continue\n",
      ". => punct => seen\n"
     ]
    }
   ],
   "source": [
    "# Dependency parser\n",
    "text = \"He is last seen being taken inside Castle Black for treatment while yelling for his men to continue fighting.\"\n",
    "for token in nlp(text):\n",
    " print(token.text,'=>',token.dep_,'=>',token.head.text)"
   ]
  },
  {
   "cell_type": "code",
   "execution_count": null,
   "metadata": {},
   "outputs": [],
   "source": []
  }
 ],
 "metadata": {
  "kernelspec": {
   "display_name": "Python 3",
   "language": "python",
   "name": "python3"
  },
  "language_info": {
   "codemirror_mode": {
    "name": "ipython",
    "version": 3
   },
   "file_extension": ".py",
   "mimetype": "text/x-python",
   "name": "python",
   "nbconvert_exporter": "python",
   "pygments_lexer": "ipython3",
   "version": "3.7.3"
  }
 },
 "nbformat": 4,
 "nbformat_minor": 2
}
